{
 "cells": [
  {
   "cell_type": "code",
   "execution_count": 4,
   "id": "22ae07f4",
   "metadata": {},
   "outputs": [],
   "source": [
    "# This investigates the association of an employee choosing to see treatment\n",
    "# for a mental health condition (treatment) based on the state in which they\n",
    "# live (state), their gender (gender), and their family history of mental\n",
    "# illness (family_history),\n",
    "# Develop computational methods to investigate the association between an\n",
    "# employee's state of residence, gender, family history of mental illness and\n",
    "# their decision to seek treatment for a mental health condition. \n",
    "import os\n",
    "import pandas as pd\n",
    "import scipy.stats as stats\n",
    "import matplotlib.pyplot as plt\n",
    "import numpy as np"
   ]
  },
  {
   "cell_type": "code",
   "execution_count": 5,
   "id": "76716f5c",
   "metadata": {},
   "outputs": [
    {
     "data": {
      "text/plain": [
       "'C:\\\\Users\\\\melle\\\\OneDrive\\\\Desktop\\\\Projects\\\\Python'"
      ]
     },
     "execution_count": 5,
     "metadata": {},
     "output_type": "execute_result"
    }
   ],
   "source": [
    "os.chdir(\"/Users/melle/OneDrive/Desktop/Projects/Python\")\n",
    "os.getcwd()"
   ]
  },
  {
   "cell_type": "code",
   "execution_count": 6,
   "id": "6e51d1db",
   "metadata": {},
   "outputs": [],
   "source": [
    "# Read in files\n",
    "all_files = os.listdir('./')"
   ]
  },
  {
   "cell_type": "code",
   "execution_count": 7,
   "id": "8ee6bd34",
   "metadata": {},
   "outputs": [
    {
     "data": {
      "text/plain": [
       "['Output', 'Output survey.clean', 'RawData.csv']"
      ]
     },
     "execution_count": 7,
     "metadata": {},
     "output_type": "execute_result"
    }
   ],
   "source": [
    "# Shows all the files in the Python folder\n",
    "all_files"
   ]
  },
  {
   "cell_type": "code",
   "execution_count": 8,
   "id": "6a903f62",
   "metadata": {},
   "outputs": [],
   "source": [
    "# Rename file to data\n",
    "survey = 'RawData.csv'\n",
    "data = pd.read_csv(survey)"
   ]
  },
  {
   "cell_type": "code",
   "execution_count": 9,
   "id": "ad149d59",
   "metadata": {},
   "outputs": [
    {
     "data": {
      "text/plain": [
       "<bound method NDFrame.head of              Timestamp  Age  Gender         Country state self_employed  \\\n",
       "0      8/27/2014 11:29   37  Female   United States    IL           NaN   \n",
       "1      8/27/2014 11:29   44       M   United States    IN           NaN   \n",
       "2      8/27/2014 11:29   32    Male          Canada   NaN           NaN   \n",
       "3      8/27/2014 11:29   31    Male  United Kingdom   NaN           NaN   \n",
       "4      8/27/2014 11:30   31    Male   United States    TX           NaN   \n",
       "...                ...  ...     ...             ...   ...           ...   \n",
       "1254   9/12/2015 11:17   26    male  United Kingdom   NaN            No   \n",
       "1255    9/26/2015 1:07   32    Male   United States    IL            No   \n",
       "1256   11/7/2015 12:36   34    male   United States    CA            No   \n",
       "1257  11/30/2015 21:25   46       f   United States    NC            No   \n",
       "1258    2/1/2016 23:04   25    Male   United States    IL            No   \n",
       "\n",
       "     family_history treatment work_interfere    no_employees  ...  \\\n",
       "0                No       Yes          Often          25-Jun  ...   \n",
       "1                No        No         Rarely  More than 1000  ...   \n",
       "2                No        No         Rarely          25-Jun  ...   \n",
       "3               Yes       Yes          Often          26-100  ...   \n",
       "4                No        No          Never         100-500  ...   \n",
       "...             ...       ...            ...             ...  ...   \n",
       "1254             No       Yes            NaN          26-100  ...   \n",
       "1255            Yes       Yes          Often          26-100  ...   \n",
       "1256            Yes       Yes      Sometimes  More than 1000  ...   \n",
       "1257             No        No            NaN         100-500  ...   \n",
       "1258            Yes       Yes      Sometimes          26-100  ...   \n",
       "\n",
       "                   leave mental_health_consequence phys_health_consequence  \\\n",
       "0          Somewhat easy                        No                      No   \n",
       "1             Don't know                     Maybe                      No   \n",
       "2     Somewhat difficult                        No                      No   \n",
       "3     Somewhat difficult                       Yes                     Yes   \n",
       "4             Don't know                        No                      No   \n",
       "...                  ...                       ...                     ...   \n",
       "1254       Somewhat easy                        No                      No   \n",
       "1255  Somewhat difficult                        No                      No   \n",
       "1256  Somewhat difficult                       Yes                     Yes   \n",
       "1257          Don't know                       Yes                      No   \n",
       "1258          Don't know                     Maybe                      No   \n",
       "\n",
       "         coworkers    supervisor mental_health_interview  \\\n",
       "0     Some of them           Yes                      No   \n",
       "1               No            No                      No   \n",
       "2              Yes           Yes                     Yes   \n",
       "3     Some of them            No                   Maybe   \n",
       "4     Some of them           Yes                     Yes   \n",
       "...            ...           ...                     ...   \n",
       "1254  Some of them  Some of them                      No   \n",
       "1255  Some of them           Yes                      No   \n",
       "1256            No            No                      No   \n",
       "1257            No            No                      No   \n",
       "1258  Some of them            No                      No   \n",
       "\n",
       "     phys_health_interview mental_vs_physical obs_consequence comments  \n",
       "0                    Maybe                Yes              No      NaN  \n",
       "1                       No         Don't know              No      NaN  \n",
       "2                      Yes                 No              No      NaN  \n",
       "3                    Maybe                 No             Yes      NaN  \n",
       "4                      Yes         Don't know              No      NaN  \n",
       "...                    ...                ...             ...      ...  \n",
       "1254                    No         Don't know              No      NaN  \n",
       "1255                    No                Yes              No      NaN  \n",
       "1256                    No                 No              No      NaN  \n",
       "1257                    No                 No              No      NaN  \n",
       "1258                    No         Don't know              No      NaN  \n",
       "\n",
       "[1259 rows x 27 columns]>"
      ]
     },
     "execution_count": 9,
     "metadata": {},
     "output_type": "execute_result"
    }
   ],
   "source": [
    "# Returns the first 5 rows if a number is not specified\n",
    "data.head"
   ]
  },
  {
   "cell_type": "code",
   "execution_count": 10,
   "id": "5ab6834a",
   "metadata": {},
   "outputs": [
    {
     "data": {
      "text/html": [
       "<div>\n",
       "<style scoped>\n",
       "    .dataframe tbody tr th:only-of-type {\n",
       "        vertical-align: middle;\n",
       "    }\n",
       "\n",
       "    .dataframe tbody tr th {\n",
       "        vertical-align: top;\n",
       "    }\n",
       "\n",
       "    .dataframe thead th {\n",
       "        text-align: right;\n",
       "    }\n",
       "</style>\n",
       "<table border=\"1\" class=\"dataframe\">\n",
       "  <thead>\n",
       "    <tr style=\"text-align: right;\">\n",
       "      <th></th>\n",
       "      <th>Timestamp</th>\n",
       "      <th>Age</th>\n",
       "      <th>Gender</th>\n",
       "      <th>Country</th>\n",
       "      <th>state</th>\n",
       "      <th>self_employed</th>\n",
       "      <th>family_history</th>\n",
       "      <th>treatment</th>\n",
       "      <th>work_interfere</th>\n",
       "      <th>no_employees</th>\n",
       "      <th>...</th>\n",
       "      <th>leave</th>\n",
       "      <th>mental_health_consequence</th>\n",
       "      <th>phys_health_consequence</th>\n",
       "      <th>coworkers</th>\n",
       "      <th>supervisor</th>\n",
       "      <th>mental_health_interview</th>\n",
       "      <th>phys_health_interview</th>\n",
       "      <th>mental_vs_physical</th>\n",
       "      <th>obs_consequence</th>\n",
       "      <th>comments</th>\n",
       "    </tr>\n",
       "  </thead>\n",
       "  <tbody>\n",
       "    <tr>\n",
       "      <th>count</th>\n",
       "      <td>1259</td>\n",
       "      <td>1.259000e+03</td>\n",
       "      <td>1259</td>\n",
       "      <td>1259</td>\n",
       "      <td>744</td>\n",
       "      <td>1241</td>\n",
       "      <td>1259</td>\n",
       "      <td>1259</td>\n",
       "      <td>995</td>\n",
       "      <td>1259</td>\n",
       "      <td>...</td>\n",
       "      <td>1259</td>\n",
       "      <td>1259</td>\n",
       "      <td>1259</td>\n",
       "      <td>1259</td>\n",
       "      <td>1259</td>\n",
       "      <td>1259</td>\n",
       "      <td>1259</td>\n",
       "      <td>1259</td>\n",
       "      <td>1259</td>\n",
       "      <td>164</td>\n",
       "    </tr>\n",
       "    <tr>\n",
       "      <th>unique</th>\n",
       "      <td>884</td>\n",
       "      <td>NaN</td>\n",
       "      <td>49</td>\n",
       "      <td>48</td>\n",
       "      <td>45</td>\n",
       "      <td>2</td>\n",
       "      <td>2</td>\n",
       "      <td>2</td>\n",
       "      <td>4</td>\n",
       "      <td>6</td>\n",
       "      <td>...</td>\n",
       "      <td>5</td>\n",
       "      <td>3</td>\n",
       "      <td>3</td>\n",
       "      <td>3</td>\n",
       "      <td>3</td>\n",
       "      <td>3</td>\n",
       "      <td>3</td>\n",
       "      <td>3</td>\n",
       "      <td>2</td>\n",
       "      <td>160</td>\n",
       "    </tr>\n",
       "    <tr>\n",
       "      <th>top</th>\n",
       "      <td>8/27/2014 12:31</td>\n",
       "      <td>NaN</td>\n",
       "      <td>Male</td>\n",
       "      <td>United States</td>\n",
       "      <td>CA</td>\n",
       "      <td>No</td>\n",
       "      <td>No</td>\n",
       "      <td>Yes</td>\n",
       "      <td>Sometimes</td>\n",
       "      <td>25-Jun</td>\n",
       "      <td>...</td>\n",
       "      <td>Don't know</td>\n",
       "      <td>No</td>\n",
       "      <td>No</td>\n",
       "      <td>Some of them</td>\n",
       "      <td>Yes</td>\n",
       "      <td>No</td>\n",
       "      <td>Maybe</td>\n",
       "      <td>Don't know</td>\n",
       "      <td>No</td>\n",
       "      <td>* Small family business - YMMV.</td>\n",
       "    </tr>\n",
       "    <tr>\n",
       "      <th>freq</th>\n",
       "      <td>8</td>\n",
       "      <td>NaN</td>\n",
       "      <td>615</td>\n",
       "      <td>751</td>\n",
       "      <td>138</td>\n",
       "      <td>1095</td>\n",
       "      <td>767</td>\n",
       "      <td>637</td>\n",
       "      <td>465</td>\n",
       "      <td>290</td>\n",
       "      <td>...</td>\n",
       "      <td>563</td>\n",
       "      <td>490</td>\n",
       "      <td>925</td>\n",
       "      <td>774</td>\n",
       "      <td>516</td>\n",
       "      <td>1008</td>\n",
       "      <td>557</td>\n",
       "      <td>576</td>\n",
       "      <td>1075</td>\n",
       "      <td>5</td>\n",
       "    </tr>\n",
       "    <tr>\n",
       "      <th>mean</th>\n",
       "      <td>NaN</td>\n",
       "      <td>7.942815e+07</td>\n",
       "      <td>NaN</td>\n",
       "      <td>NaN</td>\n",
       "      <td>NaN</td>\n",
       "      <td>NaN</td>\n",
       "      <td>NaN</td>\n",
       "      <td>NaN</td>\n",
       "      <td>NaN</td>\n",
       "      <td>NaN</td>\n",
       "      <td>...</td>\n",
       "      <td>NaN</td>\n",
       "      <td>NaN</td>\n",
       "      <td>NaN</td>\n",
       "      <td>NaN</td>\n",
       "      <td>NaN</td>\n",
       "      <td>NaN</td>\n",
       "      <td>NaN</td>\n",
       "      <td>NaN</td>\n",
       "      <td>NaN</td>\n",
       "      <td>NaN</td>\n",
       "    </tr>\n",
       "    <tr>\n",
       "      <th>std</th>\n",
       "      <td>NaN</td>\n",
       "      <td>2.818299e+09</td>\n",
       "      <td>NaN</td>\n",
       "      <td>NaN</td>\n",
       "      <td>NaN</td>\n",
       "      <td>NaN</td>\n",
       "      <td>NaN</td>\n",
       "      <td>NaN</td>\n",
       "      <td>NaN</td>\n",
       "      <td>NaN</td>\n",
       "      <td>...</td>\n",
       "      <td>NaN</td>\n",
       "      <td>NaN</td>\n",
       "      <td>NaN</td>\n",
       "      <td>NaN</td>\n",
       "      <td>NaN</td>\n",
       "      <td>NaN</td>\n",
       "      <td>NaN</td>\n",
       "      <td>NaN</td>\n",
       "      <td>NaN</td>\n",
       "      <td>NaN</td>\n",
       "    </tr>\n",
       "    <tr>\n",
       "      <th>min</th>\n",
       "      <td>NaN</td>\n",
       "      <td>-1.726000e+03</td>\n",
       "      <td>NaN</td>\n",
       "      <td>NaN</td>\n",
       "      <td>NaN</td>\n",
       "      <td>NaN</td>\n",
       "      <td>NaN</td>\n",
       "      <td>NaN</td>\n",
       "      <td>NaN</td>\n",
       "      <td>NaN</td>\n",
       "      <td>...</td>\n",
       "      <td>NaN</td>\n",
       "      <td>NaN</td>\n",
       "      <td>NaN</td>\n",
       "      <td>NaN</td>\n",
       "      <td>NaN</td>\n",
       "      <td>NaN</td>\n",
       "      <td>NaN</td>\n",
       "      <td>NaN</td>\n",
       "      <td>NaN</td>\n",
       "      <td>NaN</td>\n",
       "    </tr>\n",
       "    <tr>\n",
       "      <th>25%</th>\n",
       "      <td>NaN</td>\n",
       "      <td>2.700000e+01</td>\n",
       "      <td>NaN</td>\n",
       "      <td>NaN</td>\n",
       "      <td>NaN</td>\n",
       "      <td>NaN</td>\n",
       "      <td>NaN</td>\n",
       "      <td>NaN</td>\n",
       "      <td>NaN</td>\n",
       "      <td>NaN</td>\n",
       "      <td>...</td>\n",
       "      <td>NaN</td>\n",
       "      <td>NaN</td>\n",
       "      <td>NaN</td>\n",
       "      <td>NaN</td>\n",
       "      <td>NaN</td>\n",
       "      <td>NaN</td>\n",
       "      <td>NaN</td>\n",
       "      <td>NaN</td>\n",
       "      <td>NaN</td>\n",
       "      <td>NaN</td>\n",
       "    </tr>\n",
       "    <tr>\n",
       "      <th>50%</th>\n",
       "      <td>NaN</td>\n",
       "      <td>3.100000e+01</td>\n",
       "      <td>NaN</td>\n",
       "      <td>NaN</td>\n",
       "      <td>NaN</td>\n",
       "      <td>NaN</td>\n",
       "      <td>NaN</td>\n",
       "      <td>NaN</td>\n",
       "      <td>NaN</td>\n",
       "      <td>NaN</td>\n",
       "      <td>...</td>\n",
       "      <td>NaN</td>\n",
       "      <td>NaN</td>\n",
       "      <td>NaN</td>\n",
       "      <td>NaN</td>\n",
       "      <td>NaN</td>\n",
       "      <td>NaN</td>\n",
       "      <td>NaN</td>\n",
       "      <td>NaN</td>\n",
       "      <td>NaN</td>\n",
       "      <td>NaN</td>\n",
       "    </tr>\n",
       "    <tr>\n",
       "      <th>75%</th>\n",
       "      <td>NaN</td>\n",
       "      <td>3.600000e+01</td>\n",
       "      <td>NaN</td>\n",
       "      <td>NaN</td>\n",
       "      <td>NaN</td>\n",
       "      <td>NaN</td>\n",
       "      <td>NaN</td>\n",
       "      <td>NaN</td>\n",
       "      <td>NaN</td>\n",
       "      <td>NaN</td>\n",
       "      <td>...</td>\n",
       "      <td>NaN</td>\n",
       "      <td>NaN</td>\n",
       "      <td>NaN</td>\n",
       "      <td>NaN</td>\n",
       "      <td>NaN</td>\n",
       "      <td>NaN</td>\n",
       "      <td>NaN</td>\n",
       "      <td>NaN</td>\n",
       "      <td>NaN</td>\n",
       "      <td>NaN</td>\n",
       "    </tr>\n",
       "    <tr>\n",
       "      <th>max</th>\n",
       "      <td>NaN</td>\n",
       "      <td>1.000000e+11</td>\n",
       "      <td>NaN</td>\n",
       "      <td>NaN</td>\n",
       "      <td>NaN</td>\n",
       "      <td>NaN</td>\n",
       "      <td>NaN</td>\n",
       "      <td>NaN</td>\n",
       "      <td>NaN</td>\n",
       "      <td>NaN</td>\n",
       "      <td>...</td>\n",
       "      <td>NaN</td>\n",
       "      <td>NaN</td>\n",
       "      <td>NaN</td>\n",
       "      <td>NaN</td>\n",
       "      <td>NaN</td>\n",
       "      <td>NaN</td>\n",
       "      <td>NaN</td>\n",
       "      <td>NaN</td>\n",
       "      <td>NaN</td>\n",
       "      <td>NaN</td>\n",
       "    </tr>\n",
       "  </tbody>\n",
       "</table>\n",
       "<p>11 rows × 27 columns</p>\n",
       "</div>"
      ],
      "text/plain": [
       "              Timestamp           Age Gender        Country state  \\\n",
       "count              1259  1.259000e+03   1259           1259   744   \n",
       "unique              884           NaN     49             48    45   \n",
       "top     8/27/2014 12:31           NaN   Male  United States    CA   \n",
       "freq                  8           NaN    615            751   138   \n",
       "mean                NaN  7.942815e+07    NaN            NaN   NaN   \n",
       "std                 NaN  2.818299e+09    NaN            NaN   NaN   \n",
       "min                 NaN -1.726000e+03    NaN            NaN   NaN   \n",
       "25%                 NaN  2.700000e+01    NaN            NaN   NaN   \n",
       "50%                 NaN  3.100000e+01    NaN            NaN   NaN   \n",
       "75%                 NaN  3.600000e+01    NaN            NaN   NaN   \n",
       "max                 NaN  1.000000e+11    NaN            NaN   NaN   \n",
       "\n",
       "       self_employed family_history treatment work_interfere no_employees  \\\n",
       "count           1241           1259      1259            995         1259   \n",
       "unique             2              2         2              4            6   \n",
       "top               No             No       Yes      Sometimes       25-Jun   \n",
       "freq            1095            767       637            465          290   \n",
       "mean             NaN            NaN       NaN            NaN          NaN   \n",
       "std              NaN            NaN       NaN            NaN          NaN   \n",
       "min              NaN            NaN       NaN            NaN          NaN   \n",
       "25%              NaN            NaN       NaN            NaN          NaN   \n",
       "50%              NaN            NaN       NaN            NaN          NaN   \n",
       "75%              NaN            NaN       NaN            NaN          NaN   \n",
       "max              NaN            NaN       NaN            NaN          NaN   \n",
       "\n",
       "        ...       leave mental_health_consequence phys_health_consequence  \\\n",
       "count   ...        1259                      1259                    1259   \n",
       "unique  ...           5                         3                       3   \n",
       "top     ...  Don't know                        No                      No   \n",
       "freq    ...         563                       490                     925   \n",
       "mean    ...         NaN                       NaN                     NaN   \n",
       "std     ...         NaN                       NaN                     NaN   \n",
       "min     ...         NaN                       NaN                     NaN   \n",
       "25%     ...         NaN                       NaN                     NaN   \n",
       "50%     ...         NaN                       NaN                     NaN   \n",
       "75%     ...         NaN                       NaN                     NaN   \n",
       "max     ...         NaN                       NaN                     NaN   \n",
       "\n",
       "           coworkers supervisor mental_health_interview phys_health_interview  \\\n",
       "count           1259       1259                    1259                  1259   \n",
       "unique             3          3                       3                     3   \n",
       "top     Some of them        Yes                      No                 Maybe   \n",
       "freq             774        516                    1008                   557   \n",
       "mean             NaN        NaN                     NaN                   NaN   \n",
       "std              NaN        NaN                     NaN                   NaN   \n",
       "min              NaN        NaN                     NaN                   NaN   \n",
       "25%              NaN        NaN                     NaN                   NaN   \n",
       "50%              NaN        NaN                     NaN                   NaN   \n",
       "75%              NaN        NaN                     NaN                   NaN   \n",
       "max              NaN        NaN                     NaN                   NaN   \n",
       "\n",
       "       mental_vs_physical obs_consequence                         comments  \n",
       "count                1259            1259                              164  \n",
       "unique                  3               2                              160  \n",
       "top            Don't know              No  * Small family business - YMMV.  \n",
       "freq                  576            1075                                5  \n",
       "mean                  NaN             NaN                              NaN  \n",
       "std                   NaN             NaN                              NaN  \n",
       "min                   NaN             NaN                              NaN  \n",
       "25%                   NaN             NaN                              NaN  \n",
       "50%                   NaN             NaN                              NaN  \n",
       "75%                   NaN             NaN                              NaN  \n",
       "max                   NaN             NaN                              NaN  \n",
       "\n",
       "[11 rows x 27 columns]"
      ]
     },
     "execution_count": 10,
     "metadata": {},
     "output_type": "execute_result"
    }
   ],
   "source": [
    "data.describe(include = 'all')"
   ]
  },
  {
   "cell_type": "code",
   "execution_count": 11,
   "id": "fa13a278",
   "metadata": {},
   "outputs": [
    {
     "name": "stderr",
     "output_type": "stream",
     "text": [
      "C:\\Users\\melle\\AppData\\Local\\Temp\\ipykernel_117516\\2229098925.py:2: FutureWarning: The default value of numeric_only in DataFrameGroupBy.mean is deprecated. In a future version, numeric_only will default to False. Either specify numeric_only or select only columns which should be valid for the function.\n",
      "  data.groupby(['Gender','treatment']).mean()\n"
     ]
    },
    {
     "data": {
      "text/html": [
       "<div>\n",
       "<style scoped>\n",
       "    .dataframe tbody tr th:only-of-type {\n",
       "        vertical-align: middle;\n",
       "    }\n",
       "\n",
       "    .dataframe tbody tr th {\n",
       "        vertical-align: top;\n",
       "    }\n",
       "\n",
       "    .dataframe thead th {\n",
       "        text-align: right;\n",
       "    }\n",
       "</style>\n",
       "<table border=\"1\" class=\"dataframe\">\n",
       "  <thead>\n",
       "    <tr style=\"text-align: right;\">\n",
       "      <th></th>\n",
       "      <th></th>\n",
       "      <th>Age</th>\n",
       "    </tr>\n",
       "    <tr>\n",
       "      <th>Gender</th>\n",
       "      <th>treatment</th>\n",
       "      <th></th>\n",
       "    </tr>\n",
       "  </thead>\n",
       "  <tbody>\n",
       "    <tr>\n",
       "      <th>A little about you</th>\n",
       "      <th>Yes</th>\n",
       "      <td>8.000000e+00</td>\n",
       "    </tr>\n",
       "    <tr>\n",
       "      <th>Agender</th>\n",
       "      <th>Yes</th>\n",
       "      <td>2.100000e+01</td>\n",
       "    </tr>\n",
       "    <tr>\n",
       "      <th>All</th>\n",
       "      <th>Yes</th>\n",
       "      <td>1.000000e+11</td>\n",
       "    </tr>\n",
       "    <tr>\n",
       "      <th>Androgyne</th>\n",
       "      <th>Yes</th>\n",
       "      <td>2.800000e+01</td>\n",
       "    </tr>\n",
       "    <tr>\n",
       "      <th>Cis Female</th>\n",
       "      <th>Yes</th>\n",
       "      <td>2.700000e+01</td>\n",
       "    </tr>\n",
       "    <tr>\n",
       "      <th>...</th>\n",
       "      <th>...</th>\n",
       "      <td>...</td>\n",
       "    </tr>\n",
       "    <tr>\n",
       "      <th>p</th>\n",
       "      <th>Yes</th>\n",
       "      <td>-1.000000e+00</td>\n",
       "    </tr>\n",
       "    <tr>\n",
       "      <th>queer</th>\n",
       "      <th>Yes</th>\n",
       "      <td>2.600000e+01</td>\n",
       "    </tr>\n",
       "    <tr>\n",
       "      <th>queer/she/they</th>\n",
       "      <th>Yes</th>\n",
       "      <td>3.000000e+01</td>\n",
       "    </tr>\n",
       "    <tr>\n",
       "      <th>something kinda male?</th>\n",
       "      <th>No</th>\n",
       "      <td>1.800000e+01</td>\n",
       "    </tr>\n",
       "    <tr>\n",
       "      <th>woman</th>\n",
       "      <th>Yes</th>\n",
       "      <td>3.400000e+01</td>\n",
       "    </tr>\n",
       "  </tbody>\n",
       "</table>\n",
       "<p>61 rows × 1 columns</p>\n",
       "</div>"
      ],
      "text/plain": [
       "                                          Age\n",
       "Gender                treatment              \n",
       "A little about you    Yes        8.000000e+00\n",
       "Agender               Yes        2.100000e+01\n",
       "All                   Yes        1.000000e+11\n",
       "Androgyne             Yes        2.800000e+01\n",
       "Cis Female            Yes        2.700000e+01\n",
       "...                                       ...\n",
       "p                     Yes       -1.000000e+00\n",
       "queer                 Yes        2.600000e+01\n",
       "queer/she/they        Yes        3.000000e+01\n",
       "something kinda male? No         1.800000e+01\n",
       "woman                 Yes        3.400000e+01\n",
       "\n",
       "[61 rows x 1 columns]"
      ]
     },
     "execution_count": 11,
     "metadata": {},
     "output_type": "execute_result"
    }
   ],
   "source": [
    "# Chose to work with Gender and treatment to answer our research question\n",
    "data.groupby(['Gender','treatment']).mean()"
   ]
  },
  {
   "cell_type": "code",
   "execution_count": 12,
   "id": "fc8e8a09",
   "metadata": {},
   "outputs": [
    {
     "data": {
      "text/html": [
       "<div>\n",
       "<style scoped>\n",
       "    .dataframe tbody tr th:only-of-type {\n",
       "        vertical-align: middle;\n",
       "    }\n",
       "\n",
       "    .dataframe tbody tr th {\n",
       "        vertical-align: top;\n",
       "    }\n",
       "\n",
       "    .dataframe thead th {\n",
       "        text-align: right;\n",
       "    }\n",
       "</style>\n",
       "<table border=\"1\" class=\"dataframe\">\n",
       "  <thead>\n",
       "    <tr style=\"text-align: right;\">\n",
       "      <th></th>\n",
       "      <th>Timestamp</th>\n",
       "      <th>Age</th>\n",
       "      <th>Gender</th>\n",
       "      <th>Country</th>\n",
       "      <th>state</th>\n",
       "      <th>self_employed</th>\n",
       "      <th>family_history</th>\n",
       "      <th>work_interfere</th>\n",
       "      <th>no_employees</th>\n",
       "      <th>remote_work</th>\n",
       "      <th>...</th>\n",
       "      <th>leave</th>\n",
       "      <th>mental_health_consequence</th>\n",
       "      <th>phys_health_consequence</th>\n",
       "      <th>coworkers</th>\n",
       "      <th>supervisor</th>\n",
       "      <th>mental_health_interview</th>\n",
       "      <th>phys_health_interview</th>\n",
       "      <th>mental_vs_physical</th>\n",
       "      <th>obs_consequence</th>\n",
       "      <th>comments</th>\n",
       "    </tr>\n",
       "    <tr>\n",
       "      <th>treatment</th>\n",
       "      <th></th>\n",
       "      <th></th>\n",
       "      <th></th>\n",
       "      <th></th>\n",
       "      <th></th>\n",
       "      <th></th>\n",
       "      <th></th>\n",
       "      <th></th>\n",
       "      <th></th>\n",
       "      <th></th>\n",
       "      <th></th>\n",
       "      <th></th>\n",
       "      <th></th>\n",
       "      <th></th>\n",
       "      <th></th>\n",
       "      <th></th>\n",
       "      <th></th>\n",
       "      <th></th>\n",
       "      <th></th>\n",
       "      <th></th>\n",
       "      <th></th>\n",
       "    </tr>\n",
       "  </thead>\n",
       "  <tbody>\n",
       "    <tr>\n",
       "      <th>No</th>\n",
       "      <td>622</td>\n",
       "      <td>622</td>\n",
       "      <td>622</td>\n",
       "      <td>622</td>\n",
       "      <td>337</td>\n",
       "      <td>613</td>\n",
       "      <td>622</td>\n",
       "      <td>362</td>\n",
       "      <td>622</td>\n",
       "      <td>622</td>\n",
       "      <td>...</td>\n",
       "      <td>622</td>\n",
       "      <td>622</td>\n",
       "      <td>622</td>\n",
       "      <td>622</td>\n",
       "      <td>622</td>\n",
       "      <td>622</td>\n",
       "      <td>622</td>\n",
       "      <td>622</td>\n",
       "      <td>622</td>\n",
       "      <td>58</td>\n",
       "    </tr>\n",
       "    <tr>\n",
       "      <th>Yes</th>\n",
       "      <td>637</td>\n",
       "      <td>637</td>\n",
       "      <td>637</td>\n",
       "      <td>637</td>\n",
       "      <td>407</td>\n",
       "      <td>628</td>\n",
       "      <td>637</td>\n",
       "      <td>633</td>\n",
       "      <td>637</td>\n",
       "      <td>637</td>\n",
       "      <td>...</td>\n",
       "      <td>637</td>\n",
       "      <td>637</td>\n",
       "      <td>637</td>\n",
       "      <td>637</td>\n",
       "      <td>637</td>\n",
       "      <td>637</td>\n",
       "      <td>637</td>\n",
       "      <td>637</td>\n",
       "      <td>637</td>\n",
       "      <td>106</td>\n",
       "    </tr>\n",
       "  </tbody>\n",
       "</table>\n",
       "<p>2 rows × 26 columns</p>\n",
       "</div>"
      ],
      "text/plain": [
       "           Timestamp  Age  Gender  Country  state  self_employed  \\\n",
       "treatment                                                          \n",
       "No               622  622     622      622    337            613   \n",
       "Yes              637  637     637      637    407            628   \n",
       "\n",
       "           family_history  work_interfere  no_employees  remote_work  ...  \\\n",
       "treatment                                                             ...   \n",
       "No                    622             362           622          622  ...   \n",
       "Yes                   637             633           637          637  ...   \n",
       "\n",
       "           leave  mental_health_consequence  phys_health_consequence  \\\n",
       "treatment                                                              \n",
       "No           622                        622                      622   \n",
       "Yes          637                        637                      637   \n",
       "\n",
       "           coworkers  supervisor  mental_health_interview  \\\n",
       "treatment                                                   \n",
       "No               622         622                      622   \n",
       "Yes              637         637                      637   \n",
       "\n",
       "           phys_health_interview  mental_vs_physical  obs_consequence  \\\n",
       "treatment                                                               \n",
       "No                           622                 622              622   \n",
       "Yes                          637                 637              637   \n",
       "\n",
       "           comments  \n",
       "treatment            \n",
       "No               58  \n",
       "Yes             106  \n",
       "\n",
       "[2 rows x 26 columns]"
      ]
     },
     "execution_count": 12,
     "metadata": {},
     "output_type": "execute_result"
    }
   ],
   "source": [
    "# Returns the number of times a specified values appreas in the string\n",
    "data.groupby('treatment').count()"
   ]
  },
  {
   "cell_type": "code",
   "execution_count": 13,
   "id": "d0b65f9e",
   "metadata": {},
   "outputs": [
    {
     "data": {
      "text/plain": [
       "<matplotlib.legend.Legend at 0x1f61e11c690>"
      ]
     },
     "execution_count": 13,
     "metadata": {},
     "output_type": "execute_result"
    },
    {
     "data": {
      "image/png": "[encoded data removed]",
      "text/plain": [
       "<Figure size 640x480 with 1 Axes>"
      ]
     },
     "metadata": {},
     "output_type": "display_data"
    }
   ],
   "source": [
    "# Graph all genders before cleaning data for visuals\n",
    "all_gender = data.groupby('Gender').size()\n",
    "all_gender.plot(kind = 'pie');\n",
    "plt.legend(title = \"All Gender\")"
   ]
  },
  {
   "cell_type": "code",
   "execution_count": 14,
   "id": "fd6881cc",
   "metadata": {},
   "outputs": [
    {
     "data": {
      "text/plain": [
       "<matplotlib.legend.Legend at 0x1f61eadd590>"
      ]
     },
     "execution_count": 14,
     "metadata": {},
     "output_type": "execute_result"
    },
    {
     "data": {
      "image/png": "[encoded data removed]",
      "text/plain": [
       "<Figure size 640x480 with 1 Axes>"
      ]
     },
     "metadata": {},
     "output_type": "display_data"
    }
   ],
   "source": [
    "# Graph all states before putting them into regions\n",
    "all_states = data.groupby('state').size()\n",
    "all_states.plot(kind = 'pie');\n",
    "plt.legend(title = 'All States')"
   ]
  },
  {
   "cell_type": "code",
   "execution_count": 15,
   "id": "c3ae81dc",
   "metadata": {},
   "outputs": [
    {
     "data": {
      "text/plain": [
       "<matplotlib.legend.Legend at 0x1f61e9b0950>"
      ]
     },
     "execution_count": 15,
     "metadata": {},
     "output_type": "execute_result"
    },
    {
     "data": {
      "image/png": "[encoded data removed]",
      "text/plain": [
       "<Figure size 640x480 with 1 Axes>"
      ]
     },
     "metadata": {},
     "output_type": "display_data"
    }
   ],
   "source": [
    "# Graph % of those who have history of mental illness\n",
    "all_familyhistory = data.groupby('family_history').size()\n",
    "all_familyhistory.plot(kind = 'pie', autopct = '%0.0f%%')\n",
    "plt.legend(title = \"Family history of mental illness\")"
   ]
  },
  {
   "cell_type": "code",
   "execution_count": 16,
   "id": "09b503bb",
   "metadata": {},
   "outputs": [
    {
     "data": {
      "text/plain": [
       "<matplotlib.legend.Legend at 0x1f61ee2cf90>"
      ]
     },
     "execution_count": 16,
     "metadata": {},
     "output_type": "execute_result"
    },
    {
     "data": {
      "image/png": "[encoded data removed]",
      "text/plain": [
       "<Figure size 640x480 with 1 Axes>"
      ]
     },
     "metadata": {},
     "output_type": "display_data"
    }
   ],
   "source": [
    "# Graph of those who sought treatment for mental health condition\n",
    "all_treatment = data.groupby('treatment').size()\n",
    "all_treatment.plot(kind = 'pie', autopct = '%0.0f%%')\n",
    "plt.legend(title = \"Sought treatment for mental health condition\")"
   ]
  },
  {
   "cell_type": "code",
   "execution_count": 17,
   "id": "9ebed3f2",
   "metadata": {},
   "outputs": [
    {
     "name": "stdout",
     "output_type": "stream",
     "text": [
      "Number of samples before cleaning:  1259 \n",
      "Number of features before cleaning:  27\n"
     ]
    }
   ],
   "source": [
    "# Number of samples before cleaning\n",
    "print ('Number of samples before cleaning: ', data.shape[0], '\\nNumber of features before cleaning: ', data.shape[1])"
   ]
  },
  {
   "cell_type": "code",
   "execution_count": 18,
   "id": "174dc2b1",
   "metadata": {
    "scrolled": true
   },
   "outputs": [
    {
     "name": "stdout",
     "output_type": "stream",
     "text": [
      "All countries: \n",
      "\n"
     ]
    },
    {
     "data": {
      "text/plain": [
       "Country\n",
       "Australia                  21\n",
       "Austria                     3\n",
       "Bahamas, The                1\n",
       "Belgium                     6\n",
       "Bosnia and Herzegovina      1\n",
       "Brazil                      6\n",
       "Bulgaria                    4\n",
       "Canada                     72\n",
       "China                       1\n",
       "Colombia                    2\n",
       "Costa Rica                  1\n",
       "Croatia                     2\n",
       "Czech Republic              1\n",
       "Denmark                     2\n",
       "Finland                     3\n",
       "France                     13\n",
       "Georgia                     1\n",
       "Germany                    45\n",
       "Greece                      2\n",
       "Hungary                     1\n",
       "India                      10\n",
       "Ireland                    27\n",
       "Israel                      5\n",
       "Italy                       7\n",
       "Japan                       1\n",
       "Latvia                      1\n",
       "Mexico                      3\n",
       "Moldova                     1\n",
       "Netherlands                27\n",
       "New Zealand                 8\n",
       "Nigeria                     1\n",
       "Norway                      1\n",
       "Philippines                 1\n",
       "Poland                      7\n",
       "Portugal                    2\n",
       "Romania                     1\n",
       "Russia                      3\n",
       "Singapore                   4\n",
       "Slovenia                    1\n",
       "South Africa                6\n",
       "Spain                       1\n",
       "Sweden                      7\n",
       "Switzerland                 7\n",
       "Thailand                    1\n",
       "United Kingdom            185\n",
       "United States             751\n",
       "Uruguay                     1\n",
       "Zimbabwe                    1\n",
       "dtype: int64"
      ]
     },
     "execution_count": 18,
     "metadata": {},
     "output_type": "execute_result"
    }
   ],
   "source": [
    "# Number of all countries before isolating USA\n",
    "print('All countries: \\n')\n",
    "data.groupby('Country').size()\n"
   ]
  },
  {
   "cell_type": "code",
   "execution_count": 19,
   "id": "5e8d045d",
   "metadata": {},
   "outputs": [],
   "source": [
    "# Isolate USA \n",
    "indexNames = data[data['Country']!= 'United States'].index"
   ]
  },
  {
   "cell_type": "code",
   "execution_count": 20,
   "id": "c24c5d15",
   "metadata": {},
   "outputs": [],
   "source": [
    "data.drop(indexNames, inplace = True)"
   ]
  },
  {
   "cell_type": "code",
   "execution_count": 21,
   "id": "8450533d",
   "metadata": {
    "scrolled": true
   },
   "outputs": [
    {
     "data": {
      "text/plain": [
       "Country\n",
       "United States    751\n",
       "dtype: int64"
      ]
     },
     "execution_count": 21,
     "metadata": {},
     "output_type": "execute_result"
    }
   ],
   "source": [
    "# Number of USA sample\n",
    "data.groupby('Country').size()"
   ]
  },
  {
   "cell_type": "code",
   "execution_count": 22,
   "id": "96afc8b1",
   "metadata": {},
   "outputs": [
    {
     "data": {
      "text/plain": [
       "751"
      ]
     },
     "execution_count": 22,
     "metadata": {},
     "output_type": "execute_result"
    }
   ],
   "source": [
    "# Double check USA sample size\n",
    "data.groupby('Country').size().sum()"
   ]
  },
  {
   "cell_type": "code",
   "execution_count": 23,
   "id": "735246b8",
   "metadata": {},
   "outputs": [
    {
     "name": "stdout",
     "output_type": "stream",
     "text": [
      "Number of samples in United States:  751 \n",
      "Number of features in United States:  27\n"
     ]
    }
   ],
   "source": [
    "print ('Number of samples in United States: ', data.shape[0], '\\nNumber of features in United States: ', data.shape[1])"
   ]
  },
  {
   "cell_type": "code",
   "execution_count": 24,
   "id": "02a83f94",
   "metadata": {
    "scrolled": true
   },
   "outputs": [
    {
     "data": {
      "text/plain": [
       "751"
      ]
     },
     "execution_count": 24,
     "metadata": {},
     "output_type": "execute_result"
    }
   ],
   "source": [
    "data.groupby('Gender').size().sum()"
   ]
  },
  {
   "cell_type": "code",
   "execution_count": 25,
   "id": "106224fa",
   "metadata": {},
   "outputs": [
    {
     "name": "stdout",
     "output_type": "stream",
     "text": [
      "Number of samples in United States:  751 \n",
      "Number of features in United States:  27\n"
     ]
    }
   ],
   "source": [
    "print ('Number of samples in United States: ', data.shape[0], '\\nNumber of features in United States: ', data.shape[1])"
   ]
  },
  {
   "cell_type": "code",
   "execution_count": 26,
   "id": "3cb9295a",
   "metadata": {},
   "outputs": [],
   "source": [
    "# Clean Gender data and categorize them into M=Male, F=Female, LGBTQ+ and Other\n",
    "gender_recode = {'Female': 'F',\n",
    "'Femake': 'F','Female (cis)': 'F', 'Woman' : 'F', 'cis-female/femme': 'F',\n",
    "'f': 'F', 'femail': 'F', 'female': 'F', 'woman': 'F', 'Cis Female': 'F', 'F':'F', \n",
    "'Cis Male': 'M', 'Mail': 'M', 'Make': 'M', 'Male (CIS)': 'M', 'Man': 'M', \n",
    "'Male-ish' : 'M', 'cis male': 'M',\n",
    "'m' : 'M', 'maile' : 'M', 'male':'M', 'msle' : 'M', 'M':'M', 'Male': 'M',\n",
    "'Female (trans)' : 'LGBTQ+', 'Genderqueer' : 'LGBTQ+',\n",
    "'Trans woman': 'LGBTQ+', 'non-binary' : 'LGBTQ+', 'queer/she/they' : 'LGBTQ+', 'Trans-female' : 'LGBTQ+', 'p' : 'Other', 'Nah' : 'Other'}\n",
    "\n",
    "data['Gender'] = data.Gender.map(gender_recode)"
   ]
  },
  {
   "cell_type": "code",
   "execution_count": 27,
   "id": "22974c8c",
   "metadata": {
    "scrolled": true
   },
   "outputs": [
    {
     "data": {
      "text/plain": [
       "Gender\n",
       "F         178\n",
       "LGBTQ+      7\n",
       "M         561\n",
       "Other       2\n",
       "dtype: int64"
      ]
     },
     "execution_count": 27,
     "metadata": {},
     "output_type": "execute_result"
    }
   ],
   "source": [
    "# Gender count by category\n",
    "data.groupby('Gender').size()"
   ]
  },
  {
   "cell_type": "code",
   "execution_count": 28,
   "id": "07df188b",
   "metadata": {},
   "outputs": [
    {
     "data": {
      "text/plain": [
       "748"
      ]
     },
     "execution_count": 28,
     "metadata": {},
     "output_type": "execute_result"
    }
   ],
   "source": [
    "# Total gender count\n",
    "data.groupby('Gender').size().sum()"
   ]
  },
  {
   "cell_type": "code",
   "execution_count": 29,
   "id": "4ea1bfcb",
   "metadata": {
    "scrolled": true
   },
   "outputs": [
    {
     "data": {
      "text/plain": [
       "state\n",
       "AL      8\n",
       "AZ      7\n",
       "CA    138\n",
       "CO      9\n",
       "CT      4\n",
       "DC      4\n",
       "FL     15\n",
       "GA     12\n",
       "IA      4\n",
       "ID      1\n",
       "IL     28\n",
       "IN     27\n",
       "KS      3\n",
       "KY      5\n",
       "LA      1\n",
       "MA     20\n",
       "MD      7\n",
       "ME      1\n",
       "MI     22\n",
       "MN     21\n",
       "MO     12\n",
       "MS      1\n",
       "NC     14\n",
       "NE      2\n",
       "NH      3\n",
       "NJ      6\n",
       "NM      2\n",
       "NV      3\n",
       "NY     56\n",
       "OH     30\n",
       "OK      6\n",
       "OR     29\n",
       "PA     29\n",
       "RI      1\n",
       "SC      5\n",
       "SD      3\n",
       "TN     45\n",
       "TX     44\n",
       "UT     10\n",
       "VA     14\n",
       "VT      3\n",
       "WA     70\n",
       "WI     12\n",
       "WV      1\n",
       "WY      2\n",
       "dtype: int64"
      ]
     },
     "execution_count": 29,
     "metadata": {},
     "output_type": "execute_result"
    }
   ],
   "source": [
    " # Counts of each state (# of elements in the array)\n",
    "data.groupby('state').size()"
   ]
  },
  {
   "cell_type": "code",
   "execution_count": 30,
   "id": "35fc5901",
   "metadata": {},
   "outputs": [
    {
     "data": {
      "text/plain": [
       "740"
      ]
     },
     "execution_count": 30,
     "metadata": {},
     "output_type": "execute_result"
    }
   ],
   "source": [
    " # State sample size\n",
    "data.groupby('state').size().sum()"
   ]
  },
  {
   "cell_type": "code",
   "execution_count": 31,
   "id": "831b1cc1",
   "metadata": {},
   "outputs": [],
   "source": [
    "# Recode states into regions\n",
    "state_recode = {'AL': 'S', 'CA': 'W',\n",
    "'CO': 'W', 'DC' : 'S', 'FL': 'S',\n",
    "'GA': 'S', 'IL': 'MW', 'IN': 'MW', 'NM' : 'W', 'NV' : 'W',\n",
    "'KS': 'MW', 'KY': 'S', 'MA': 'NE', 'MD': 'S', \n",
    "'MI': 'MW', 'MN': 'MW', 'MO': 'MW', 'NC': 'S', \n",
    "'NJ': 'NE', 'NY' : 'NE', 'OH': 'MW', 'OK': 'S',\n",
    "'OR' : 'W', 'PA' : 'NE', 'SD':'MW', 'TN' : 'S', 'TX' : 'S',\n",
    "'UT' : 'W', 'VA' : 'S', 'VT': 'NE', 'WA': \"W\",\n",
    "'AZ' : 'W', 'CT' : 'NE', 'LA' : 'S',\n",
    "'MS': 'S', 'WI' : 'MW',\n",
    "'IA': 'MW', 'ID':'W', 'ME':'NE','NE':'MW', 'NH':'NE', 'RI':'NE', 'SC':'S', 'WV':'S', 'WY':'W'}\n",
    "\n",
    "data['state'] = data.state.map(state_recode)"
   ]
  },
  {
   "cell_type": "code",
   "execution_count": 32,
   "id": "9105774b",
   "metadata": {},
   "outputs": [
    {
     "data": {
      "text/plain": [
       "state\n",
       "MW    164\n",
       "NE    123\n",
       "S     182\n",
       "W     271\n",
       "dtype: int64"
      ]
     },
     "execution_count": 32,
     "metadata": {},
     "output_type": "execute_result"
    }
   ],
   "source": [
    "# States by the four regions\n",
    "data.groupby('state').size()"
   ]
  },
  {
   "cell_type": "code",
   "execution_count": 33,
   "id": "c71f1f0e",
   "metadata": {},
   "outputs": [
    {
     "data": {
      "text/plain": [
       "740"
      ]
     },
     "execution_count": 33,
     "metadata": {},
     "output_type": "execute_result"
    }
   ],
   "source": [
    "# Sanity check for state sample size\n",
    "data.groupby('state').size().sum()"
   ]
  },
  {
   "cell_type": "code",
   "execution_count": 34,
   "id": "a6e4328b",
   "metadata": {},
   "outputs": [
    {
     "data": {
      "text/plain": [
       "family_history\n",
       "No     421\n",
       "Yes    330\n",
       "dtype: int64"
      ]
     },
     "execution_count": 34,
     "metadata": {},
     "output_type": "execute_result"
    }
   ],
   "source": [
    "# Isolate family history\n",
    "data.groupby('family_history').size()"
   ]
  },
  {
   "cell_type": "code",
   "execution_count": 35,
   "id": "f6b7def0",
   "metadata": {},
   "outputs": [],
   "source": [
    "# Recode 1 = Yes and 0 = No\n",
    "family_history_num = {'No' : '0', 'Yes' : '1'}\n",
    "data['family_history'] = data.family_history.map(family_history_num)"
   ]
  },
  {
   "cell_type": "code",
   "execution_count": 36,
   "id": "1e0766fd",
   "metadata": {},
   "outputs": [
    {
     "data": {
      "text/plain": [
       "family_history\n",
       "0    421\n",
       "1    330\n",
       "dtype: int64"
      ]
     },
     "execution_count": 36,
     "metadata": {},
     "output_type": "execute_result"
    }
   ],
   "source": [
    "# Check recode and sample size\n",
    "data.groupby('family_history').size()"
   ]
  },
  {
   "cell_type": "code",
   "execution_count": 37,
   "id": "b43f46ff",
   "metadata": {},
   "outputs": [
    {
     "data": {
      "text/plain": [
       "treatment\n",
       "No     341\n",
       "Yes    410\n",
       "dtype: int64"
      ]
     },
     "execution_count": 37,
     "metadata": {},
     "output_type": "execute_result"
    }
   ],
   "source": [
    "# Isolate treatment\n",
    "data.groupby('treatment').size()"
   ]
  },
  {
   "cell_type": "code",
   "execution_count": 38,
   "id": "220631e6",
   "metadata": {},
   "outputs": [],
   "source": [
    "# Recode 1 = Yes and 0 = No\n",
    "treatment_num = {'No' : '0', 'Yes' : '1'}\n",
    "data['treatment'] = data.treatment.map(treatment_num)"
   ]
  },
  {
   "cell_type": "code",
   "execution_count": 39,
   "id": "8a1042fb",
   "metadata": {},
   "outputs": [
    {
     "data": {
      "text/plain": [
       "treatment\n",
       "0    341\n",
       "1    410\n",
       "dtype: int64"
      ]
     },
     "execution_count": 39,
     "metadata": {},
     "output_type": "execute_result"
    }
   ],
   "source": [
    "#Check recode and sample size\n",
    "data.groupby('treatment').size()"
   ]
  },
  {
   "cell_type": "code",
   "execution_count": 40,
   "id": "fd93233e",
   "metadata": {},
   "outputs": [
    {
     "data": {
      "text/plain": [
       "Gender\n",
       "F         178\n",
       "LGBTQ+      7\n",
       "M         561\n",
       "Other       2\n",
       "dtype: int64"
      ]
     },
     "execution_count": 40,
     "metadata": {},
     "output_type": "execute_result"
    }
   ],
   "source": [
    "data.groupby('Gender').size()"
   ]
  },
  {
   "cell_type": "code",
   "execution_count": 41,
   "id": "2e9fac4b",
   "metadata": {},
   "outputs": [
    {
     "data": {
      "text/plain": [
       "state\n",
       "MW    164\n",
       "NE    123\n",
       "S     182\n",
       "W     271\n",
       "dtype: int64"
      ]
     },
     "execution_count": 41,
     "metadata": {},
     "output_type": "execute_result"
    }
   ],
   "source": [
    "data.groupby('state').size()"
   ]
  },
  {
   "cell_type": "code",
   "execution_count": 42,
   "id": "025b3452",
   "metadata": {},
   "outputs": [
    {
     "data": {
      "text/plain": [
       "family_history\n",
       "0    421\n",
       "1    330\n",
       "dtype: int64"
      ]
     },
     "execution_count": 42,
     "metadata": {},
     "output_type": "execute_result"
    }
   ],
   "source": [
    "data.groupby('family_history').size()"
   ]
  },
  {
   "cell_type": "code",
   "execution_count": 43,
   "id": "37eda751",
   "metadata": {},
   "outputs": [],
   "source": [
    "data = data[data['state'].str.contains(\"nan\") == False]\n",
    "data = data[data['treatment'].str.contains(\"nan\") == False]\n",
    "data = data[data['Gender'].str.contains(\"nan\") == False]\n",
    "data = data[data['family_history'].str.contains(\"nan\") == False]"
   ]
  },
  {
   "cell_type": "code",
   "execution_count": 44,
   "id": "a38b042b",
   "metadata": {},
   "outputs": [
    {
     "data": {
      "text/plain": [
       "state\n",
       "MW    164\n",
       "NE    122\n",
       "S     182\n",
       "W     269\n",
       "dtype: int64"
      ]
     },
     "execution_count": 44,
     "metadata": {},
     "output_type": "execute_result"
    }
   ],
   "source": [
    "data.groupby('state').size()"
   ]
  },
  {
   "cell_type": "code",
   "execution_count": 45,
   "id": "ad98c46a",
   "metadata": {},
   "outputs": [
    {
     "data": {
      "text/plain": [
       "treatment\n",
       "0    334\n",
       "1    403\n",
       "dtype: int64"
      ]
     },
     "execution_count": 45,
     "metadata": {},
     "output_type": "execute_result"
    }
   ],
   "source": [
    "data.groupby('treatment').size()"
   ]
  },
  {
   "cell_type": "code",
   "execution_count": 46,
   "id": "e062efee",
   "metadata": {},
   "outputs": [
    {
     "data": {
      "text/plain": [
       "Gender\n",
       "F         176\n",
       "LGBTQ+      7\n",
       "M         552\n",
       "Other       2\n",
       "dtype: int64"
      ]
     },
     "execution_count": 46,
     "metadata": {},
     "output_type": "execute_result"
    }
   ],
   "source": [
    "data.groupby('Gender').size()"
   ]
  },
  {
   "cell_type": "code",
   "execution_count": 55,
   "id": "23347546",
   "metadata": {},
   "outputs": [
    {
     "data": {
      "text/plain": [
       "family_history\n",
       "0    415\n",
       "1    322\n",
       "dtype: int64"
      ]
     },
     "execution_count": 55,
     "metadata": {},
     "output_type": "execute_result"
    }
   ],
   "source": [
    "data.groupby('family_history').size()"
   ]
  },
  {
   "cell_type": "code",
   "execution_count": 56,
   "id": "abd50e9e",
   "metadata": {},
   "outputs": [],
   "source": [
    "i_out = data.replace('survey','survey.clean')\n",
    "i_out = '../Output survey.clean'\n",
    "data.to_csv(i_out, index=False, sep='\\t')"
   ]
  },
  {
   "cell_type": "code",
   "execution_count": 57,
   "id": "18c15585",
   "metadata": {},
   "outputs": [
    {
     "data": {
      "text/plain": [
       "'C:\\\\Users\\\\melle\\\\OneDrive\\\\Desktop\\\\Projects\\\\Python\\\\Output'"
      ]
     },
     "execution_count": 57,
     "metadata": {},
     "output_type": "execute_result"
    }
   ],
   "source": [
    "os.chdir(\"/Users/melle/OneDrive/Desktop/Projects/Python/Output\")\n",
    "os.getcwd()"
   ]
  },
  {
   "cell_type": "code",
   "execution_count": 58,
   "id": "60b126d7",
   "metadata": {
    "scrolled": true
   },
   "outputs": [],
   "source": [
    "new = 'survey.clean'\n",
    "data_clean = pd.read_csv(new, sep='\\t')"
   ]
  },
  {
   "cell_type": "code",
   "execution_count": 59,
   "id": "2f239d1f",
   "metadata": {},
   "outputs": [
    {
     "data": {
      "text/html": [
       "<div>\n",
       "<style scoped>\n",
       "    .dataframe tbody tr th:only-of-type {\n",
       "        vertical-align: middle;\n",
       "    }\n",
       "\n",
       "    .dataframe tbody tr th {\n",
       "        vertical-align: top;\n",
       "    }\n",
       "\n",
       "    .dataframe thead th {\n",
       "        text-align: right;\n",
       "    }\n",
       "</style>\n",
       "<table border=\"1\" class=\"dataframe\">\n",
       "  <thead>\n",
       "    <tr style=\"text-align: right;\">\n",
       "      <th></th>\n",
       "      <th>Timestamp</th>\n",
       "      <th>Age</th>\n",
       "      <th>Gender</th>\n",
       "      <th>Country</th>\n",
       "      <th>state</th>\n",
       "      <th>self_employed</th>\n",
       "      <th>family_history</th>\n",
       "      <th>treatment</th>\n",
       "      <th>work_interfere</th>\n",
       "      <th>no_employees</th>\n",
       "      <th>...</th>\n",
       "      <th>leave</th>\n",
       "      <th>mental_health_consequence</th>\n",
       "      <th>phys_health_consequence</th>\n",
       "      <th>coworkers</th>\n",
       "      <th>supervisor</th>\n",
       "      <th>mental_health_interview</th>\n",
       "      <th>phys_health_interview</th>\n",
       "      <th>mental_vs_physical</th>\n",
       "      <th>obs_consequence</th>\n",
       "      <th>comments</th>\n",
       "    </tr>\n",
       "  </thead>\n",
       "  <tbody>\n",
       "    <tr>\n",
       "      <th>0</th>\n",
       "      <td>8/27/2014 11:29</td>\n",
       "      <td>37</td>\n",
       "      <td>F</td>\n",
       "      <td>United States</td>\n",
       "      <td>MW</td>\n",
       "      <td>NaN</td>\n",
       "      <td>0</td>\n",
       "      <td>1</td>\n",
       "      <td>Often</td>\n",
       "      <td>25-Jun</td>\n",
       "      <td>...</td>\n",
       "      <td>Somewhat easy</td>\n",
       "      <td>No</td>\n",
       "      <td>No</td>\n",
       "      <td>Some of them</td>\n",
       "      <td>Yes</td>\n",
       "      <td>No</td>\n",
       "      <td>Maybe</td>\n",
       "      <td>Yes</td>\n",
       "      <td>No</td>\n",
       "      <td>NaN</td>\n",
       "    </tr>\n",
       "    <tr>\n",
       "      <th>1</th>\n",
       "      <td>8/27/2014 11:29</td>\n",
       "      <td>44</td>\n",
       "      <td>M</td>\n",
       "      <td>United States</td>\n",
       "      <td>MW</td>\n",
       "      <td>NaN</td>\n",
       "      <td>0</td>\n",
       "      <td>0</td>\n",
       "      <td>Rarely</td>\n",
       "      <td>More than 1000</td>\n",
       "      <td>...</td>\n",
       "      <td>Don't know</td>\n",
       "      <td>Maybe</td>\n",
       "      <td>No</td>\n",
       "      <td>No</td>\n",
       "      <td>No</td>\n",
       "      <td>No</td>\n",
       "      <td>No</td>\n",
       "      <td>Don't know</td>\n",
       "      <td>No</td>\n",
       "      <td>NaN</td>\n",
       "    </tr>\n",
       "    <tr>\n",
       "      <th>2</th>\n",
       "      <td>8/27/2014 11:30</td>\n",
       "      <td>31</td>\n",
       "      <td>M</td>\n",
       "      <td>United States</td>\n",
       "      <td>S</td>\n",
       "      <td>NaN</td>\n",
       "      <td>0</td>\n",
       "      <td>0</td>\n",
       "      <td>Never</td>\n",
       "      <td>100-500</td>\n",
       "      <td>...</td>\n",
       "      <td>Don't know</td>\n",
       "      <td>No</td>\n",
       "      <td>No</td>\n",
       "      <td>Some of them</td>\n",
       "      <td>Yes</td>\n",
       "      <td>Yes</td>\n",
       "      <td>Yes</td>\n",
       "      <td>Don't know</td>\n",
       "      <td>No</td>\n",
       "      <td>NaN</td>\n",
       "    </tr>\n",
       "    <tr>\n",
       "      <th>3</th>\n",
       "      <td>8/27/2014 11:31</td>\n",
       "      <td>33</td>\n",
       "      <td>M</td>\n",
       "      <td>United States</td>\n",
       "      <td>S</td>\n",
       "      <td>NaN</td>\n",
       "      <td>1</td>\n",
       "      <td>0</td>\n",
       "      <td>Sometimes</td>\n",
       "      <td>25-Jun</td>\n",
       "      <td>...</td>\n",
       "      <td>Don't know</td>\n",
       "      <td>No</td>\n",
       "      <td>No</td>\n",
       "      <td>Yes</td>\n",
       "      <td>Yes</td>\n",
       "      <td>No</td>\n",
       "      <td>Maybe</td>\n",
       "      <td>Don't know</td>\n",
       "      <td>No</td>\n",
       "      <td>NaN</td>\n",
       "    </tr>\n",
       "    <tr>\n",
       "      <th>4</th>\n",
       "      <td>8/27/2014 11:31</td>\n",
       "      <td>35</td>\n",
       "      <td>F</td>\n",
       "      <td>United States</td>\n",
       "      <td>MW</td>\n",
       "      <td>NaN</td>\n",
       "      <td>1</td>\n",
       "      <td>1</td>\n",
       "      <td>Sometimes</td>\n",
       "      <td>5-Jan</td>\n",
       "      <td>...</td>\n",
       "      <td>Somewhat difficult</td>\n",
       "      <td>Maybe</td>\n",
       "      <td>Maybe</td>\n",
       "      <td>Some of them</td>\n",
       "      <td>No</td>\n",
       "      <td>No</td>\n",
       "      <td>No</td>\n",
       "      <td>Don't know</td>\n",
       "      <td>No</td>\n",
       "      <td>NaN</td>\n",
       "    </tr>\n",
       "  </tbody>\n",
       "</table>\n",
       "<p>5 rows × 27 columns</p>\n",
       "</div>"
      ],
      "text/plain": [
       "         Timestamp  Age Gender        Country state self_employed  \\\n",
       "0  8/27/2014 11:29   37      F  United States    MW           NaN   \n",
       "1  8/27/2014 11:29   44      M  United States    MW           NaN   \n",
       "2  8/27/2014 11:30   31      M  United States     S           NaN   \n",
       "3  8/27/2014 11:31   33      M  United States     S           NaN   \n",
       "4  8/27/2014 11:31   35      F  United States    MW           NaN   \n",
       "\n",
       "   family_history  treatment work_interfere    no_employees  ...  \\\n",
       "0               0          1          Often          25-Jun  ...   \n",
       "1               0          0         Rarely  More than 1000  ...   \n",
       "2               0          0          Never         100-500  ...   \n",
       "3               1          0      Sometimes          25-Jun  ...   \n",
       "4               1          1      Sometimes           5-Jan  ...   \n",
       "\n",
       "                leave mental_health_consequence phys_health_consequence  \\\n",
       "0       Somewhat easy                        No                      No   \n",
       "1          Don't know                     Maybe                      No   \n",
       "2          Don't know                        No                      No   \n",
       "3          Don't know                        No                      No   \n",
       "4  Somewhat difficult                     Maybe                   Maybe   \n",
       "\n",
       "      coworkers supervisor mental_health_interview phys_health_interview  \\\n",
       "0  Some of them        Yes                      No                 Maybe   \n",
       "1            No         No                      No                    No   \n",
       "2  Some of them        Yes                     Yes                   Yes   \n",
       "3           Yes        Yes                      No                 Maybe   \n",
       "4  Some of them         No                      No                    No   \n",
       "\n",
       "  mental_vs_physical obs_consequence comments  \n",
       "0                Yes              No      NaN  \n",
       "1         Don't know              No      NaN  \n",
       "2         Don't know              No      NaN  \n",
       "3         Don't know              No      NaN  \n",
       "4         Don't know              No      NaN  \n",
       "\n",
       "[5 rows x 27 columns]"
      ]
     },
     "execution_count": 59,
     "metadata": {},
     "output_type": "execute_result"
    }
   ],
   "source": [
    "data_clean.head()"
   ]
  },
  {
   "cell_type": "code",
   "execution_count": 60,
   "id": "27ffd601",
   "metadata": {},
   "outputs": [
    {
     "data": {
      "text/plain": [
       "<matplotlib.legend.Legend at 0x1f622b799d0>"
      ]
     },
     "execution_count": 60,
     "metadata": {},
     "output_type": "execute_result"
    },
    {
     "data": {
      "image/png": "[encoded data removed]",
      "text/plain": [
       "<Figure size 640x480 with 1 Axes>"
      ]
     },
     "metadata": {},
     "output_type": "display_data"
    }
   ],
   "source": [
    "c_gender = data_clean.groupby('Gender').size()\n",
    "c_gender.plot(kind = 'pie', autopct = '%0.0f%%');\n",
    "plt.legend(title = \"Gender\")"
   ]
  },
  {
   "cell_type": "code",
   "execution_count": 61,
   "id": "e6d05e45",
   "metadata": {},
   "outputs": [
    {
     "data": {
      "text/plain": [
       "<matplotlib.legend.Legend at 0x1f61ee8a450>"
      ]
     },
     "execution_count": 61,
     "metadata": {},
     "output_type": "execute_result"
    },
    {
     "data": {
      "image/png": "[encoded data removed]",
      "text/plain": [
       "<Figure size 640x480 with 1 Axes>"
      ]
     },
     "metadata": {},
     "output_type": "display_data"
    }
   ],
   "source": [
    "c_familyH = data_clean.groupby('family_history').size()\n",
    "c_familyH.plot(kind = 'pie', autopct = '%0.0f%%');\n",
    "plt.legend(title = \"Family history of mental illness\")"
   ]
  },
  {
   "cell_type": "code",
   "execution_count": 62,
   "id": "bc83cdc1",
   "metadata": {},
   "outputs": [
    {
     "data": {
      "text/plain": [
       "<matplotlib.legend.Legend at 0x1f622bf8950>"
      ]
     },
     "execution_count": 62,
     "metadata": {},
     "output_type": "execute_result"
    },
    {
     "data": {
      "image/png": "[encoded data removed]",
      "text/plain": [
       "<Figure size 640x480 with 1 Axes>"
      ]
     },
     "metadata": {},
     "output_type": "display_data"
    }
   ],
   "source": [
    "c_treatment = data_clean.groupby('treatment').size()\n",
    "c_treatment.plot(kind = 'pie', autopct = '%0.0f%%');\n",
    "plt.legend(title = \"Sought treatment for mental health\")"
   ]
  },
  {
   "cell_type": "code",
   "execution_count": 63,
   "id": "6ae57ff2",
   "metadata": {},
   "outputs": [
    {
     "data": {
      "text/plain": [
       "<matplotlib.legend.Legend at 0x1f622cfd250>"
      ]
     },
     "execution_count": 63,
     "metadata": {},
     "output_type": "execute_result"
    },
    {
     "data": {
      "image/png": "[encoded data removed]",
      "text/plain": [
       "<Figure size 640x480 with 1 Axes>"
      ]
     },
     "metadata": {},
     "output_type": "display_data"
    }
   ],
   "source": [
    "c_state = data_clean.groupby('state').size()\n",
    "c_state.plot(kind = 'pie', autopct = '%0.0f%%');\n",
    "plt.legend(title = \"States by regions\")"
   ]
  },
  {
   "cell_type": "code",
   "execution_count": 64,
   "id": "d642e7b9",
   "metadata": {},
   "outputs": [],
   "source": [
    "# cross tab between treatment and gender\n",
    "data_crosstab = pd.crosstab(data_clean['treatment'], data_clean['Gender'])"
   ]
  },
  {
   "cell_type": "code",
   "execution_count": 65,
   "id": "75831ac3",
   "metadata": {},
   "outputs": [
    {
     "name": "stdout",
     "output_type": "stream",
     "text": [
      "\n",
      "\n",
      " Chi2ContingencyResult(statistic=28.36919970360129, pvalue=3.0383718820860237e-06, dof=3, expected_freq=array([[ 79.76119403,   3.17232022, 250.16010855,   0.9063772 ],\n",
      "       [ 96.23880597,   3.82767978, 301.83989145,   1.0936228 ]]))\n"
     ]
    }
   ],
   "source": [
    "chisq = stats.chi2_contingency(data_crosstab)\n",
    "print('\\n\\n' ,chisq)"
   ]
  },
  {
   "cell_type": "code",
   "execution_count": 66,
   "id": "8117b5f7",
   "metadata": {},
   "outputs": [],
   "source": [
    "# cross tab between treatment and family history\n",
    "data_crosstab = pd.crosstab(data_clean['treatment'], data_clean['family_history'])"
   ]
  },
  {
   "cell_type": "code",
   "execution_count": 67,
   "id": "2604a067",
   "metadata": {},
   "outputs": [
    {
     "name": "stdout",
     "output_type": "stream",
     "text": [
      "\n",
      "\n",
      " Chi2ContingencyResult(statistic=101.1838449407637, pvalue=8.383025646464195e-24, dof=1, expected_freq=array([[188.07327001, 145.92672999],\n",
      "       [226.92672999, 176.07327001]]))\n"
     ]
    }
   ],
   "source": [
    "chisq = stats.chi2_contingency(data_crosstab)\n",
    "print('\\n\\n' ,chisq)"
   ]
  },
  {
   "cell_type": "code",
   "execution_count": 68,
   "id": "bf1eeb64",
   "metadata": {},
   "outputs": [],
   "source": [
    "# cross tab between treatment and state\n",
    "data_crosstab = pd.crosstab(data_clean['treatment'], data_clean['state'])"
   ]
  },
  {
   "cell_type": "code",
   "execution_count": 69,
   "id": "2e8abbf3",
   "metadata": {},
   "outputs": [
    {
     "name": "stdout",
     "output_type": "stream",
     "text": [
      "\n",
      "\n",
      " Chi2ContingencyResult(statistic=8.483123301328945, pvalue=0.03701415789911934, dof=3, expected_freq=array([[ 74.3229308 ,  55.2890095 ,  82.48032564, 121.90773406],\n",
      "       [ 89.6770692 ,  66.7109905 ,  99.51967436, 147.09226594]]))\n"
     ]
    }
   ],
   "source": [
    "# Chi square to observe the significance between the variables.\n",
    "chisq = stats.chi2_contingency(data_crosstab)\n",
    "print('\\n\\n' ,chisq)"
   ]
  },
  {
   "cell_type": "code",
   "execution_count": 70,
   "id": "0b168790",
   "metadata": {},
   "outputs": [],
   "source": [
    "# Logistic Regression\n",
    "lg_reg = data_clean[['Gender', 'state', 'family_history', 'treatment']]"
   ]
  },
  {
   "cell_type": "code",
   "execution_count": 71,
   "id": "2e41eb9f",
   "metadata": {},
   "outputs": [
    {
     "data": {
      "text/html": [
       "<div>\n",
       "<style scoped>\n",
       "    .dataframe tbody tr th:only-of-type {\n",
       "        vertical-align: middle;\n",
       "    }\n",
       "\n",
       "    .dataframe tbody tr th {\n",
       "        vertical-align: top;\n",
       "    }\n",
       "\n",
       "    .dataframe thead th {\n",
       "        text-align: right;\n",
       "    }\n",
       "</style>\n",
       "<table border=\"1\" class=\"dataframe\">\n",
       "  <thead>\n",
       "    <tr style=\"text-align: right;\">\n",
       "      <th></th>\n",
       "      <th>Gender</th>\n",
       "      <th>state</th>\n",
       "      <th>family_history</th>\n",
       "      <th>treatment</th>\n",
       "    </tr>\n",
       "  </thead>\n",
       "  <tbody>\n",
       "    <tr>\n",
       "      <th>0</th>\n",
       "      <td>F</td>\n",
       "      <td>MW</td>\n",
       "      <td>0</td>\n",
       "      <td>1</td>\n",
       "    </tr>\n",
       "    <tr>\n",
       "      <th>1</th>\n",
       "      <td>M</td>\n",
       "      <td>MW</td>\n",
       "      <td>0</td>\n",
       "      <td>0</td>\n",
       "    </tr>\n",
       "    <tr>\n",
       "      <th>2</th>\n",
       "      <td>M</td>\n",
       "      <td>S</td>\n",
       "      <td>0</td>\n",
       "      <td>0</td>\n",
       "    </tr>\n",
       "    <tr>\n",
       "      <th>3</th>\n",
       "      <td>M</td>\n",
       "      <td>S</td>\n",
       "      <td>1</td>\n",
       "      <td>0</td>\n",
       "    </tr>\n",
       "    <tr>\n",
       "      <th>4</th>\n",
       "      <td>F</td>\n",
       "      <td>MW</td>\n",
       "      <td>1</td>\n",
       "      <td>1</td>\n",
       "    </tr>\n",
       "  </tbody>\n",
       "</table>\n",
       "</div>"
      ],
      "text/plain": [
       "  Gender state  family_history  treatment\n",
       "0      F    MW               0          1\n",
       "1      M    MW               0          0\n",
       "2      M     S               0          0\n",
       "3      M     S               1          0\n",
       "4      F    MW               1          1"
      ]
     },
     "execution_count": 71,
     "metadata": {},
     "output_type": "execute_result"
    }
   ],
   "source": [
    "lg_reg.head()"
   ]
  },
  {
   "cell_type": "code",
   "execution_count": 72,
   "id": "1693837b",
   "metadata": {},
   "outputs": [
    {
     "name": "stdout",
     "output_type": "stream",
     "text": [
      "Warning: Maximum number of iterations has been exceeded.\n",
      "         Current function value: 0.598353\n",
      "         Iterations: 35\n"
     ]
    },
    {
     "name": "stderr",
     "output_type": "stream",
     "text": [
      "C:\\Users\\melle\\anaconda3\\Lib\\site-packages\\statsmodels\\base\\model.py:604: ConvergenceWarning: Maximum Likelihood optimization failed to converge. Check mle_retvals\n",
      "  warnings.warn(\"Maximum Likelihood optimization failed to \"\n"
     ]
    },
    {
     "data": {
      "text/html": [
       "<table class=\"simpletable\">\n",
       "<caption>Logit Regression Results</caption>\n",
       "<tr>\n",
       "  <th>Dep. Variable:</th>       <td>treatment</td>    <th>  No. Observations:  </th>  <td>   737</td>  \n",
       "</tr>\n",
       "<tr>\n",
       "  <th>Model:</th>                 <td>Logit</td>      <th>  Df Residuals:      </th>  <td>   729</td>  \n",
       "</tr>\n",
       "<tr>\n",
       "  <th>Method:</th>                 <td>MLE</td>       <th>  Df Model:          </th>  <td>     7</td>  \n",
       "</tr>\n",
       "<tr>\n",
       "  <th>Date:</th>            <td>Tue, 08 Aug 2023</td> <th>  Pseudo R-squ.:     </th>  <td>0.1313</td>  \n",
       "</tr>\n",
       "<tr>\n",
       "  <th>Time:</th>                <td>19:19:34</td>     <th>  Log-Likelihood:    </th> <td> -440.99</td> \n",
       "</tr>\n",
       "<tr>\n",
       "  <th>converged:</th>             <td>False</td>      <th>  LL-Null:           </th> <td> -507.61</td> \n",
       "</tr>\n",
       "<tr>\n",
       "  <th>Covariance Type:</th>     <td>nonrobust</td>    <th>  LLR p-value:       </th> <td>1.311e-25</td>\n",
       "</tr>\n",
       "</table>\n",
       "<table class=\"simpletable\">\n",
       "<tr>\n",
       "          <td></td>            <th>coef</th>     <th>std err</th>      <th>z</th>      <th>P>|z|</th>  <th>[0.025</th>    <th>0.975]</th>  \n",
       "</tr>\n",
       "<tr>\n",
       "  <th>Intercept</th>        <td>    0.3462</td> <td>    0.252</td> <td>    1.374</td> <td> 0.170</td> <td>   -0.148</td> <td>    0.840</td>\n",
       "</tr>\n",
       "<tr>\n",
       "  <th>Gender[T.LGBTQ+]</th> <td>   -0.0131</td> <td>    0.921</td> <td>   -0.014</td> <td> 0.989</td> <td>   -1.818</td> <td>    1.791</td>\n",
       "</tr>\n",
       "<tr>\n",
       "  <th>Gender[T.M]</th>      <td>   -0.8497</td> <td>    0.202</td> <td>   -4.209</td> <td> 0.000</td> <td>   -1.245</td> <td>   -0.454</td>\n",
       "</tr>\n",
       "<tr>\n",
       "  <th>Gender[T.Other]</th>  <td>   20.1102</td> <td> 3.85e+04</td> <td>    0.001</td> <td> 1.000</td> <td>-7.55e+04</td> <td> 7.55e+04</td>\n",
       "</tr>\n",
       "<tr>\n",
       "  <th>state[T.NE]</th>      <td>   -0.3738</td> <td>    0.264</td> <td>   -1.418</td> <td> 0.156</td> <td>   -0.890</td> <td>    0.143</td>\n",
       "</tr>\n",
       "<tr>\n",
       "  <th>state[T.S]</th>       <td>   -0.4144</td> <td>    0.237</td> <td>   -1.751</td> <td> 0.080</td> <td>   -0.878</td> <td>    0.049</td>\n",
       "</tr>\n",
       "<tr>\n",
       "  <th>state[T.W]</th>       <td>    0.0317</td> <td>    0.220</td> <td>    0.144</td> <td> 0.885</td> <td>   -0.400</td> <td>    0.464</td>\n",
       "</tr>\n",
       "<tr>\n",
       "  <th>family_history</th>   <td>    1.5700</td> <td>    0.168</td> <td>    9.357</td> <td> 0.000</td> <td>    1.241</td> <td>    1.899</td>\n",
       "</tr>\n",
       "</table>"
      ],
      "text/plain": [
       "<class 'statsmodels.iolib.summary.Summary'>\n",
       "\"\"\"\n",
       "                           Logit Regression Results                           \n",
       "==============================================================================\n",
       "Dep. Variable:              treatment   No. Observations:                  737\n",
       "Model:                          Logit   Df Residuals:                      729\n",
       "Method:                           MLE   Df Model:                            7\n",
       "Date:                Tue, 08 Aug 2023   Pseudo R-squ.:                  0.1313\n",
       "Time:                        19:19:34   Log-Likelihood:                -440.99\n",
       "converged:                      False   LL-Null:                       -507.61\n",
       "Covariance Type:            nonrobust   LLR p-value:                 1.311e-25\n",
       "====================================================================================\n",
       "                       coef    std err          z      P>|z|      [0.025      0.975]\n",
       "------------------------------------------------------------------------------------\n",
       "Intercept            0.3462      0.252      1.374      0.170      -0.148       0.840\n",
       "Gender[T.LGBTQ+]    -0.0131      0.921     -0.014      0.989      -1.818       1.791\n",
       "Gender[T.M]         -0.8497      0.202     -4.209      0.000      -1.245      -0.454\n",
       "Gender[T.Other]     20.1102   3.85e+04      0.001      1.000   -7.55e+04    7.55e+04\n",
       "state[T.NE]         -0.3738      0.264     -1.418      0.156      -0.890       0.143\n",
       "state[T.S]          -0.4144      0.237     -1.751      0.080      -0.878       0.049\n",
       "state[T.W]           0.0317      0.220      0.144      0.885      -0.400       0.464\n",
       "family_history       1.5700      0.168      9.357      0.000       1.241       1.899\n",
       "====================================================================================\n",
       "\"\"\""
      ]
     },
     "execution_count": 72,
     "metadata": {},
     "output_type": "execute_result"
    }
   ],
   "source": [
    "# Gender: Female is baseline and there is a difference on who chooses treatment\n",
    "# based on the Pvalue. Males are less less likely to seek treatment\n",
    "# State: Midwest is baseline and due to negative coefficient people in the \n",
    "# south are less likely to seek treatment for mental health conditions\n",
    "# Family History: Due to postive coefficient people with family history of mental\n",
    "# illness are more likely to seek treatment.\n",
    "# Limitations: Whitespace issue with gender categories and removing \"nan\" from data.\n",
    "# \n",
    "import statsmodels.formula.api as smf\n",
    "model = smf.logit('treatment ~ Gender + family_history + state', data = lg_reg).fit()\n",
    "model.summary()"
   ]
  },
  {
   "cell_type": "code",
   "execution_count": null,
   "id": "ff1221be",
   "metadata": {},
   "outputs": [],
   "source": []
  },
  {
   "cell_type": "code",
   "execution_count": null,
   "id": "959475df",
   "metadata": {},
   "outputs": [],
   "source": []
  }
 ],
 "metadata": {
  "kernelspec": {
   "display_name": "Python 3 (ipykernel)",
   "language": "python",
   "name": "python3"
  },
  "language_info": {
   "codemirror_mode": {
    "name": "ipython",
    "version": 3
   },
   "file_extension": ".py",
   "mimetype": "text/x-python",
   "name": "python",
   "nbconvert_exporter": "python",
   "pygments_lexer": "ipython3",
   "version": "3.11.3"
  }
 },
 "nbformat": 4,
 "nbformat_minor": 5
}
